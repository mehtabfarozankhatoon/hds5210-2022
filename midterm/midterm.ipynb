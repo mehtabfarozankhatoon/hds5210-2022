{
 "cells": [
  {
   "cell_type": "markdown",
   "metadata": {},
   "source": [
    "# HDS5210-2022 Fall Midterm\n",
    "\n",
    "In the midterm exercise, you're going to use all the programming and data management skills you've developed so far to build a pricing calculator that will calculate how much money should be reimbursed for the visits in a CSV file. To do this, you will need to get allowed amounts (aka rates) from a JSON file, apply some special rules, and then calculate various totals by hospital or by month.\n",
    "\n",
    "Each step of the midterm will build up to form your final solution. Along the way, I've provided plenty of test cases to make sure you're getting each step correct.\n",
    "\n",
    "All functions require docstrings with a description and at least one test case.\n",
    "\n",
    "The midterm is due Monday, October 24th at 11:59 PM CST.\n",
    "\n",
    "---"
   ]
  },
  {
   "cell_type": "markdown",
   "metadata": {},
   "source": [
    "## Step 1: Average Rate\n",
    "\n",
    "With the `/data/negotiated_rates.json` file as input for your first function, read all the `allowed_amount` attributes and calculate an average allowed amount over all rates in the file.\n",
    "\n",
    "Your function should be named **average_rate()**, take the file's name as it's input parameter, and return a float as the result.\n",
    "\n",
    "**ROUND YOUR ANSWER TO 2 DECIMAL PLACES**"
   ]
  },
  {
   "cell_type": "code",
   "execution_count": 1,
   "metadata": {},
   "outputs": [],
   "source": [
    "import json\n",
    "\n",
    "file = \"/data/negotiated_rates.json\"\n",
    "\n",
    "#import the json file, open and read it.\n",
    "negotiation = json.load(open(file))\n",
    "\n",
    "def average_rate(file):\n",
    "    \"\"\"(str) -> float\n",
    "    This function takes the JSON file 'negotitated_rates' as its input parameter and calculates an average allowed amounts of all of the rates in the file and returns a float(rounded to two decimal places) as a result.\n",
    "    \n",
    "    \n",
    "    >>> average_rate('/data/negotiated_rates.json')\n",
    "    38.67\n",
    "    \"\"\"\n",
    "    \n",
    "    total_allowed = 0\n",
    "    count = 0\n",
    "    \n",
    "  \n",
    "    for network in negotiation['out_of_network']:\n",
    "        allowed = network['allowed_amounts']\n",
    "        for amt in allowed:\n",
    "            amount = amt['payments']['allowed_amount']\n",
    "            total_allowed += amount\n",
    "            count += 1\n",
    "   \n",
    "   \n",
    "    allowed_amount = round(total_allowed/count,2)\n",
    "        \n",
    "        \n",
    "    return allowed_amount\n",
    "        \n",
    "    \n",
    "    \n",
    "    \n",
    "    \n",
    "\n"
   ]
  },
  {
   "cell_type": "code",
   "execution_count": 2,
   "metadata": {},
   "outputs": [
    {
     "data": {
      "text/plain": [
       "38.67"
      ]
     },
     "execution_count": 2,
     "metadata": {},
     "output_type": "execute_result"
    }
   ],
   "source": [
    "average_rate(file)"
   ]
  },
  {
   "cell_type": "code",
   "execution_count": 3,
   "metadata": {},
   "outputs": [],
   "source": [
    "assert(average_rate('/data/negotiated_rates.json') == 38.67)"
   ]
  },
  {
   "cell_type": "code",
   "execution_count": 4,
   "metadata": {},
   "outputs": [
    {
     "name": "stdout",
     "output_type": "stream",
     "text": [
      "Finding tests in NoName\n",
      "Trying:\n",
      "    average_rate('/data/negotiated_rates.json')\n",
      "Expecting:\n",
      "    38.67\n",
      "ok\n"
     ]
    }
   ],
   "source": [
    "import doctest\n",
    "doctest.run_docstring_examples(average_rate, globals(), verbose=True)"
   ]
  },
  {
   "cell_type": "markdown",
   "metadata": {},
   "source": [
    "---\n",
    "\n",
    "## Step 2: Rate for a Billing Code / Service Code Combination\n",
    "\n",
    "For the next step, we need to be able to look up the allowed amount for any given billing code / service code combination.\n",
    "\n",
    "In this data, the billing code represents the service or procedure that was provided. The service code represents the type of site where the service was provided.\n",
    "\n",
    "Your function should be named **get_rate()** and take three parameters: the JSON file name, the billing code, and the service code. If your code can't find that combination in the file, it should return None."
   ]
  },
  {
   "cell_type": "code",
   "execution_count": 5,
   "metadata": {},
   "outputs": [],
   "source": [
    "import json\n",
    "\n",
    "file = \"/data/negotiated_rates.json\"\n",
    "\n",
    "negotiation = json.load(open(file))\n",
    "\n",
    "def get_rate(file, billing_code, service_code):\n",
    "    \"\"\"(str, str, str)->float or None\n",
    "    This function will take json file called 'negotiated_rates' as an input to look up the allowed amount for any given billing code\n",
    "    and service code combination. It will return the amount value as a float and if a combination is not found, None is returned.\n",
    "    \n",
    "    >>> get_rate('/data/negotiated_rates.json', '97110', '11')\n",
    "    21.51\n",
    "    \n",
    "    >>> get_rate('/data/negotiated_rates.json', '97140', '13')\n",
    "    \"\"\"\n",
    "    \n",
    "    for network in negotiation['out_of_network']:\n",
    "        billingcode = network['billing_code']\n",
    "        allowed = network['allowed_amounts']\n",
    "        \n",
    "        for amt in allowed:\n",
    "            servicecode = amt['service_code']\n",
    "            amount = amt['payments']['allowed_amount']\n",
    "            \n",
    "            if billing_code in billingcode and service_code in servicecode:\n",
    "                return amount\n",
    "        \n",
    "\n",
    "    return None\n",
    "      \n",
    "        \n",
    "    \n",
    "   \n",
    "\n",
    "    "
   ]
  },
  {
   "cell_type": "code",
   "execution_count": 6,
   "metadata": {},
   "outputs": [],
   "source": [
    "assert (get_rate('/data/negotiated_rates.json','G0283','11') == 8.78)\n",
    "assert (get_rate('/data/negotiated_rates.json','97140','11') == 20.03)\n",
    "assert (get_rate('/data/negotiated_rates.json','97110','12') == 26.62)"
   ]
  },
  {
   "cell_type": "code",
   "execution_count": 7,
   "metadata": {},
   "outputs": [
    {
     "name": "stdout",
     "output_type": "stream",
     "text": [
      "Finding tests in NoName\n",
      "Trying:\n",
      "    get_rate('/data/negotiated_rates.json', '97110', '11')\n",
      "Expecting:\n",
      "    21.51\n",
      "ok\n",
      "Trying:\n",
      "    get_rate('/data/negotiated_rates.json', '97140', '13')\n",
      "Expecting nothing\n",
      "ok\n"
     ]
    }
   ],
   "source": [
    "import doctest\n",
    "doctest.run_docstring_examples(get_rate, globals(), verbose=True)"
   ]
  },
  {
   "cell_type": "markdown",
   "metadata": {},
   "source": [
    "---\n",
    "\n",
    "## Part 3: Special Rules for Rates\n",
    "\n",
    "There are some special rules for adjusting rates depending on a patient's age and the day of week.  (These are made up. Not from the real world.) In the next part of the midterm, you'll need to create a function that applies these extra rules to a rate and return the adjusted value.\n",
    "\n",
    "1. If the day of week is Monday, charge only 75% of the allowed amount.\n",
    "2. If the patient's age is 65 or higher, charge only 50% of the allowed amount.\n",
    "3. If's both Monday and the patient's age is 65 or higher, charge only 50% of the allowed amount.\n",
    "4. If neither of these conditions are true, charge the whole amount.\n",
    "\n",
    "Your function should be named **get_adjusted_rate()** and take five parameters: file name, billing code, service code, patient age, and visit date.  Your function should return the adjusted rate (based on the rules above) or None if the rate couldn't be found in the file.\n",
    "\n",
    "Note that your function will take a date in the form `%Y-%m-%d` ([see datetime.strptime()](https://docs.python.org/3/library/datetime.html#datetime.datetime.strptime)) and will need to calculate the [day of week](https://docs.python.org/3/library/datetime.html#datetime.date.weekday).\n",
    "\n",
    "**ROUND YOUR ANSWER TO 2 DECIMAL PLACES**"
   ]
  },
  {
   "cell_type": "code",
   "execution_count": 245,
   "metadata": {},
   "outputs": [],
   "source": [
    "from datetime import datetime\n",
    "import json\n",
    "\n",
    "\n",
    "file = \"/data/negotiated_rates.json\"\n",
    "\n",
    "negotiation = json.load(open(file))\n",
    "\n",
    "\n",
    "def get_adjusted_rate(file, billing_code, service_code, pat_age, visit_date):\n",
    "    \"\"\"(str, str, str, int, str)->float or None\n",
    "    This function takes the get_rate() function to calculate the adjusted rate based on the below special rules and also the datetime format is set.\n",
    "    1. If visit dates are on Mondays, 75% of the allowed amount is charged(amount is rounded to two decimals); \n",
    "    2. If the patient's age is 65 or higher, 50% of the allowed amount is charged(amount is rounded to two decimals)\n",
    "    3. If visit dates are on Mondays and the patient is above or equal to 65,50% of the allowed amount is charged(amount is rounded to two decimals);\n",
    "    4. If none of the above conditions are met, then charge the whole amount or return the same value\n",
    "    The function returns a float value or None if the rate is not found in the file\n",
    "    \n",
    "    >>> get_adjusted_rate('/data/negotiated_rates.json','G0283','11',22,'2022-01-07')\n",
    "    8.78\n",
    "    \n",
    "    >>> get_adjusted_rate('/data/negotiated_rates.json','G0283','11',22,'2022-01-03')\n",
    "    6.58\n",
    "    \n",
    "    >>> get_adjusted_rate('/data/negotiated_rates.json','G0283','12',76,'2022-10-22')\n",
    "    \n",
    "    \"\"\"\n",
    "    \n",
    "    \n",
    "    rate = get_rate(file,billing_code,service_code)\n",
    "      \n",
    "    # convert from string format to datetime format\n",
    "    # and get the date\n",
    "    d = datetime.strptime(visit_date, \"%Y-%m-%d\")\n",
    "    i = d.weekday()\n",
    "    adjusted_rate = 0  \n",
    "    \n",
    "    if rate == None:\n",
    "        return None\n",
    "    else:\n",
    "        if i == 0 and int(pat_age) >= 65:\n",
    "            adjusted_rate = (rate * 0.5)\n",
    "        elif i == 0:\n",
    "            adjusted_rate = (rate * 0.75)\n",
    "        elif int(pat_age) >= 65:\n",
    "            adjusted_rate = (rate * 0.5)\n",
    "        elif i != 0 and int(pat_age) != 65:\n",
    "            adjusted_rate = rate\n",
    "        else:\n",
    "            None\n",
    "        \n",
    "    return round(adjusted_rate, 2)\n",
    "        \n",
    "   \n",
    "   \n",
    "    \n",
    "    \n",
    "   \n",
    "   \n",
    "        \n",
    "    "
   ]
  },
  {
   "cell_type": "code",
   "execution_count": 246,
   "metadata": {},
   "outputs": [],
   "source": [
    "assert (get_adjusted_rate('/data/negotiated_rates.json','G0283','11',22,'2022-01-07') == 8.78)\n",
    "assert (get_adjusted_rate('/data/negotiated_rates.json','G0283','11',22,'2022-01-03') == 6.58)\n",
    "assert (get_adjusted_rate('/data/negotiated_rates.json','G0283','11',76,'2022-01-03') == 4.39)\n",
    "assert (get_adjusted_rate('/data/negotiated_rates.json','G0283','11',76,'2022-01-08') == 4.39)"
   ]
  },
  {
   "cell_type": "code",
   "execution_count": 247,
   "metadata": {},
   "outputs": [
    {
     "name": "stdout",
     "output_type": "stream",
     "text": [
      "Finding tests in NoName\n",
      "Trying:\n",
      "    get_adjusted_rate('/data/negotiated_rates.json','G0283','11',22,'2022-01-07')\n",
      "Expecting:\n",
      "    8.78\n",
      "ok\n",
      "Trying:\n",
      "    get_adjusted_rate('/data/negotiated_rates.json','G0283','11',22,'2022-01-03')\n",
      "Expecting:\n",
      "    6.58\n",
      "ok\n",
      "Trying:\n",
      "    get_adjusted_rate('/data/negotiated_rates.json','G0283','12',76,'2022-10-22')\n",
      "Expecting nothing\n",
      "ok\n"
     ]
    }
   ],
   "source": [
    "import doctest\n",
    "doctest.run_docstring_examples(get_adjusted_rate, globals(), verbose=True)"
   ]
  },
  {
   "cell_type": "code",
   "execution_count": 248,
   "metadata": {},
   "outputs": [
    {
     "data": {
      "text/plain": [
       "6.58"
      ]
     },
     "execution_count": 248,
     "metadata": {},
     "output_type": "execute_result"
    }
   ],
   "source": [
    "get_adjusted_rate('/data/negotiated_rates.json','G0283','11',22,'2022-01-03')"
   ]
  },
  {
   "cell_type": "markdown",
   "metadata": {},
   "source": [
    "---\n",
    "\n",
    "## Step 4: Calculate total payments for a list of visits\n",
    "\n",
    "Last step, we're going to put your get_adjusted_rate() function to work on a list of visits from a few hospitals in the St. Louis region.\n",
    "\n",
    "Your last function, **summarize_reimbursement()** needs to read an encounter file and the negotiated rates file, compute an adjusted rate for each encounter (row) in the input file, and return two dictionaries of information:\n",
    "1. Total expected reimbursement by month\n",
    "2. Total expected reimbursement by hospital\n",
    "\n",
    "Your should be able to run your function as `by_month, by_hospital = summarize_reimbursement(visits, negotiated_rates)` and have the two answers below:\n",
    "\n",
    "**by_month**\n",
    "```json\n",
    "{\n",
    "    '2021-05': 192.38,\n",
    "    '2021-03': 378.72,\n",
    "    '2021-07': 277.67,\n",
    "    '2021-06': 236.53,\n",
    "    '2021-11': 229.7,\n",
    "    '2021-10': 234.52,\n",
    "    '2021-12': 297.87,\n",
    "    '2021-04': 337.7,\n",
    "    '2021-09': 160.4,\n",
    "    '2021-01': 111.91,\n",
    "    '2021-02': 158.55,\n",
    "    '2021-08': 152.28\n",
    "}\n",
    "```\n",
    "\n",
    "**by_hospital**\n",
    "```json\n",
    "{\n",
    "    'Missouri Baptist': 514.18,\n",
    "    'SSM DePaul': 460.02,\n",
    "    'SLU Hospital': 409.67,\n",
    "    'Barnes Jewish': 485.7,\n",
    "    'Mercy Springfield': 518.59,\n",
    "    'Mercy St. Louis': 380.07\n",
    "}\n",
    "```\n",
    "\n",
    "**Round your totals to 2 decimal places**\n",
    "\n",
    "**If rates are not found, just ignore them**"
   ]
  },
  {
   "cell_type": "code",
   "execution_count": 249,
   "metadata": {},
   "outputs": [],
   "source": [
    "import json\n",
    "import csv\n",
    "from datetime import datetime\n",
    "\n",
    "\n",
    "\n",
    "def summarize_reimbursement(visits, negotiated_rates): \n",
    "    \"\"\"(str, str)-> dict, dict\n",
    "    This function takes input parameters from a csv file named 'visits' and the json file('negotiated_rates') and gets the information by using the \n",
    "    get_adjusted_rate() function. \n",
    "    - The CSV file, json file is imported along with datetime module. Once the files are open and read, two empty dictionaries are created to where the total expected reimbursement by month and hospital will be stored.\n",
    "    - Adjusted rates for each month of the year is added(rounding it to two decimals), the date is taken from the input csv file to output only the days of the month. This is then stored in the by_month dictionary.\n",
    "    - For each hospital the adjusted rates are added up (rounding it to two decimals) and placed them in the by_hospital dictionary.\n",
    "    - The function will then compute an adjusted rate for each encounter (row) in the input file, and return two dictionaries of information\n",
    "    1. Total expected reimbursement by month\n",
    "    2. Total expected reimbursement by hospital\n",
    "    \n",
    "    >>> summarize_reimbursement('/data/visits.csv','/data/negotiated_rates.json')[0]['2021-07']\n",
    "    277.67\n",
    "    \n",
    "    >>> summarize_reimbursement('/data/visits.csv','/data/negotiated_rates.json')[0]['2021-03'] \n",
    "    378.72\n",
    "    \n",
    "    >>> summarize_reimbursement('/data/visits.csv','/data/negotiated_rates.json')[1]['Mercy St. Louis']\n",
    "    380.07\n",
    "    \n",
    "    >>> summarize_reimbursement('/data/visits.csv','/data/negotiated_rates.json')[1]['Mercy Springfield']\n",
    "    518.59\n",
    "    \n",
    "    \n",
    "    \"\"\"\n",
    "    \n",
    "    by_month = {}\n",
    "    by_hospital = {}\n",
    "    file = \"/data/negotiated_rates.json\"\n",
    "    negotiation = json.load(open(file))\n",
    "    \n",
    "    with open(visits) as f:\n",
    "        visit_file = csv.reader(f)\n",
    "        next (visit_file, None)\n",
    "       \n",
    "        for row in visit_file:\n",
    "            hospital = row[1]\n",
    "            pat_age = row[3]\n",
    "            billing_code = row[4]\n",
    "            service_code = row[5]\n",
    "            visit_date = row[6]\n",
    "            total_adj_rate = get_adjusted_rate(file, row[4], row[5], int(row[3]), row[6])\n",
    "           #total_adj_rate = get_adjusted_rate(file,billing_code,service_code, int(pat_age), visit_date)\n",
    "            \n",
    "            if total_adj_rate == None:\n",
    "                pass\n",
    "            else:\n",
    "                if visit_date[:7] in by_month.keys():\n",
    "                    by_month[visit_date[:7]] += total_adj_rate\n",
    "                    by_month[visit_date[:7]] = round(by_month[visit_date[:7]],2)\n",
    "                else:\n",
    "                    by_month[visit_date[:7]]= total_adj_rate\n",
    "            \n",
    "                if hospital in by_hospital.keys():\n",
    "                    by_hospital[hospital] +=  total_adj_rate\n",
    "                    by_hospital[hospital]= round(by_hospital[hospital],2)\n",
    "                else:\n",
    "                    by_hospital[hospital]= total_adj_rate\n",
    "        \n",
    "    return by_month, by_hospital\n",
    "        \n",
    "    \n",
    "    \n",
    "        \n",
    "\n",
    "            "
   ]
  },
  {
   "cell_type": "code",
   "execution_count": 250,
   "metadata": {},
   "outputs": [
    {
     "name": "stdout",
     "output_type": "stream",
     "text": [
      "Finding tests in NoName\n",
      "Trying:\n",
      "    summarize_reimbursement('/data/visits.csv','/data/negotiated_rates.json')[0]['2021-07']\n",
      "Expecting:\n",
      "    277.67\n",
      "ok\n",
      "Trying:\n",
      "    summarize_reimbursement('/data/visits.csv','/data/negotiated_rates.json')[0]['2021-03'] \n",
      "Expecting:\n",
      "    378.72\n",
      "ok\n",
      "Trying:\n",
      "    summarize_reimbursement('/data/visits.csv','/data/negotiated_rates.json')[1]['Mercy St. Louis']\n",
      "Expecting:\n",
      "    380.07\n",
      "ok\n",
      "Trying:\n",
      "    summarize_reimbursement('/data/visits.csv','/data/negotiated_rates.json')[1]['Mercy Springfield']\n",
      "Expecting:\n",
      "    518.59\n",
      "ok\n"
     ]
    }
   ],
   "source": [
    "import doctest\n",
    "doctest.run_docstring_examples(summarize_reimbursement, globals(), verbose=True)"
   ]
  },
  {
   "cell_type": "code",
   "execution_count": 251,
   "metadata": {},
   "outputs": [
    {
     "data": {
      "text/plain": [
       "({'2021-05': 192.38,\n",
       "  '2021-03': 378.72,\n",
       "  '2021-07': 277.67,\n",
       "  '2021-06': 236.53,\n",
       "  '2021-11': 229.7,\n",
       "  '2021-10': 234.52,\n",
       "  '2021-12': 297.87,\n",
       "  '2021-04': 337.7,\n",
       "  '2021-09': 160.4,\n",
       "  '2021-01': 111.91,\n",
       "  '2021-02': 158.55,\n",
       "  '2021-08': 152.28},\n",
       " {'Missouri Baptist': 514.18,\n",
       "  'SSM DePaul': 460.02,\n",
       "  'SLU Hospital': 409.67,\n",
       "  'Barnes Jewish': 485.7,\n",
       "  'Mercy Springfield': 518.59,\n",
       "  'Mercy St. Louis': 380.07})"
      ]
     },
     "execution_count": 251,
     "metadata": {},
     "output_type": "execute_result"
    }
   ],
   "source": [
    "summarize_reimbursement('/data/visits.csv','/data/negotiated_rates.json')"
   ]
  },
  {
   "cell_type": "code",
   "execution_count": 252,
   "metadata": {},
   "outputs": [],
   "source": [
    "assert (summarize_reimbursement('/data/visits.csv','/data/negotiated_rates.json')[0]['2021-07'] == 277.67)\n",
    "assert (summarize_reimbursement('/data/visits.csv','/data/negotiated_rates.json')[0]['2021-03'] == 378.72)\n",
    "assert (summarize_reimbursement('/data/visits.csv','/data/negotiated_rates.json')[1]['Mercy St. Louis'] == 380.07)\n",
    "assert (summarize_reimbursement('/data/visits.csv','/data/negotiated_rates.json')[1]['Mercy Springfield'] == 518.59)"
   ]
  },
  {
   "cell_type": "code",
   "execution_count": 253,
   "metadata": {},
   "outputs": [
    {
     "data": {
      "text/plain": [
       "True"
      ]
     },
     "execution_count": 253,
     "metadata": {},
     "output_type": "execute_result"
    }
   ],
   "source": [
    "summarize_reimbursement('/data/visits.csv','/data/negotiated_rates.json')[1]['Mercy St. Louis'] == 380.07"
   ]
  },
  {
   "cell_type": "code",
   "execution_count": null,
   "metadata": {},
   "outputs": [],
   "source": []
  },
  {
   "cell_type": "code",
   "execution_count": null,
   "metadata": {},
   "outputs": [],
   "source": []
  }
 ],
 "metadata": {
  "kernelspec": {
   "display_name": "Python 3",
   "language": "python",
   "name": "python3"
  },
  "language_info": {
   "codemirror_mode": {
    "name": "ipython",
    "version": 3
   },
   "file_extension": ".py",
   "mimetype": "text/x-python",
   "name": "python",
   "nbconvert_exporter": "python",
   "pygments_lexer": "ipython3",
   "version": "3.6.7"
  }
 },
 "nbformat": 4,
 "nbformat_minor": 4
}

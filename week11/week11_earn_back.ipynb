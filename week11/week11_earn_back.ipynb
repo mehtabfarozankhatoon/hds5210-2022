{
 "cells": [
  {
   "cell_type": "markdown",
   "metadata": {},
   "source": [
    "# Week 11 - Earn-Back Points Assignment #1\n",
    "\n",
    "These exercises are entirely optional, but they provide good practice. And you can use them to earn extra points toward your semester grade.  Each problem in this notebook can you earn you back up to 2 points.  There are key requirements, though. If your code does not following these rules, you will earn no points for your work.\n",
    "* You MUST include docstrings that explain the purpose of your code.\n",
    "* You MUST include at least 2 example tests in your docstrings for each function you write.\n",
    "* You MUST run your docstrings within the notebook to show me your code and docstrings work correctly.\n",
    "* You MUST submit your own individual work.  You may not collaborate with other students on these assignments.\n",
    "\n",
    "There will be 4 assignments like this between now and the end of the semester, each with 4 problems, each worth 2 points, for a total of 32 points.\n",
    "\n",
    "**If anything about the above rules is unclear, please message me on Canvas or via email**"
   ]
  },
  {
   "cell_type": "markdown",
   "metadata": {},
   "source": [
    "---"
   ]
  },
  {
   "cell_type": "markdown",
   "metadata": {},
   "source": [
    "## Earn-Back 1: Sunflower Health Plan Files\n",
    "\n",
    "Sunflower Health Plan is one of Centene's state-specific health plans. If you aren't familiar with Centene, they are one of the largest healthcare maangement organizations the country and are headquartered here in St. Louis. Many of your colleagues from previous graduating classes now work at Centene. \n",
    "\n",
    "Sunflower Health Plan has posted links to two files on this page: https://www.sunflowerhealthplan.com/json.html\n",
    "\n",
    "* https://www.sunflowerhealthplan.com/content/dam/centene/sunflower/json/KAPrintProviderDir_Prac.json\n",
    "* https://www.sunflowerhealthplan.com/content/dam/centene/sunflower/json/KAPrintProviderDir_Prov.json\n",
    "\n",
    "This entire problemset asks you to work with these files.\n",
    "\n",
    "Your first step is to write a python function called **get_files(type)** where **type** is a string that contains one of two values: *practitioner* or *provider*.  Your function should download the correct file from the webpage above based on the string value passed to the function. The function should return the objects created by loading that JSON data.\n",
    "\n",
    "**INPUT:** `'practitioneer'` or `'provider'`\n",
    "\n",
    "**OUTPUT:** Python object based on the data from the appropriate file.\n",
    "\n",
    "\n",
    "*Note that these files may take a minute for Python to download. They're big.*"
   ]
  },
  {
   "cell_type": "code",
   "execution_count": 1,
   "metadata": {},
   "outputs": [],
   "source": [
    "from urllib.request import urlopen\n",
    "import json\n",
    "def get_files(type):\n",
    "    \"\"\"\n",
    "    str>>str\n",
    "    The function will pull a json file from the respective url provided being either 'Practitioner' or 'Provider'. \n",
    "    Below tests are wriiten to check if the function worked\n",
    "    1. If the correct url is not inputted the function throws a message saying error receiving the data \n",
    "    and will not return the required json file. \n",
    "    2. The length of the provider file obtained is 23127. \n",
    "\n",
    "    >>> get_files('prov')\n",
    "    Error receiving data, provide Practitioner or provider\n",
    "    \n",
    "    >>> len(get_files('provider'))\n",
    "    23127\n",
    "    \n",
    "    \"\"\"\n",
    "\n",
    "    if type == 'provider':\n",
    "        url_provider = ('https://www.sunflowerhealthplan.com/content/dam/centene/sunflower/json/KAPrintProviderDir_Prov.json')\n",
    "        response = urlopen(url_provider)\n",
    "        jsonData = json.loads(response.read())\n",
    "        \n",
    "    elif type == 'practitioner':\n",
    "        url_practitioner = ('https://www.sunflowerhealthplan.com/content/dam/centene/sunflower/json/KAPrintProviderDir_Prac.json')\n",
    "        response = urlopen(url_practitioner)       \n",
    "        jsonData = json.loads(response.read())\n",
    "                \n",
    "    else:\n",
    "        jsonData = None \n",
    "        print(\"Error receiving data, provide Practitioner or provider\" )\n",
    "        \n",
    "    return jsonData"
   ]
  },
  {
   "cell_type": "code",
   "execution_count": 2,
   "metadata": {},
   "outputs": [
    {
     "data": {
      "text/plain": [
       "23127"
      ]
     },
     "execution_count": 2,
     "metadata": {},
     "output_type": "execute_result"
    }
   ],
   "source": [
    "len(get_files('provider'))"
   ]
  },
  {
   "cell_type": "code",
   "execution_count": 3,
   "metadata": {},
   "outputs": [
    {
     "name": "stdout",
     "output_type": "stream",
     "text": [
      "Finding tests in NoName\n",
      "Trying:\n",
      "    get_files('prov')\n",
      "Expecting:\n",
      "    Error receiving data, provide Practitioner or provider\n",
      "ok\n",
      "Trying:\n",
      "    len(get_files('provider'))\n",
      "Expecting:\n",
      "    23127\n",
      "ok\n"
     ]
    }
   ],
   "source": [
    "import doctest\n",
    "doctest.run_docstring_examples(get_files, globals(), verbose=True)"
   ]
  },
  {
   "cell_type": "code",
   "execution_count": null,
   "metadata": {},
   "outputs": [],
   "source": []
  },
  {
   "cell_type": "code",
   "execution_count": null,
   "metadata": {},
   "outputs": [],
   "source": []
  },
  {
   "cell_type": "markdown",
   "metadata": {},
   "source": [
    "## Earn-Back 2: What is this Data?\n",
    "\n",
    "No coding for this part, so no docstrings or tests are required.\n",
    "\n",
    "Explain to in 2-3 sentences, what do you see in these files? If you can't make sense of it from a healthcare business perspective, just tell me what you see in techincal terms."
   ]
  },
  {
   "cell_type": "markdown",
   "metadata": {},
   "source": [
    "Per the files provided, it projects information regarding the practitioners and/or the providers. The details for the provider includes the provider ID, location, Name,speciality, address, accreditation, pharmacy details. Whereas the practitioners data includes practitioner ID, provider ID, location, office hours. \n",
    "There could also be seen that some of the details are missing on both files (ex:- Board status, panel status,)"
   ]
  },
  {
   "cell_type": "code",
   "execution_count": null,
   "metadata": {},
   "outputs": [],
   "source": []
  },
  {
   "cell_type": "code",
   "execution_count": null,
   "metadata": {},
   "outputs": [],
   "source": []
  },
  {
   "cell_type": "markdown",
   "metadata": {},
   "source": [
    "## Earn-Back 3: How many are closed on each Day of the Week\n",
    "\n",
    "You'll see in the files a piece of information that tellsu us what the schedule is on every day of the week:\n",
    "\n",
    "```json\n",
    "'PROVIDER_ID': '387724',\n",
    " 'LOCATION_ID': '626140',\n",
    " 'NAME': 'Mercy Clinic Cardiology',\n",
    " 'PROVIDER TYPE': 'GROUP PRACTICE',\n",
    " 'NPI': '1215264817',\n",
    " 'SPECIALTY': 'Multi-Specialty',\n",
    " 'ADDRESS1': '3020 Saint Johns Boulevard',\n",
    " 'ADDRESS2': 'Suite A1',\n",
    " 'ADDRESS3': '',\n",
    " 'CITY': 'Joplin',\n",
    " 'STATE': 'MO',\n",
    " 'ZIP': '64804',\n",
    " 'COUNTY': 'Newton',\n",
    " 'LATITUDE': '37.061',\n",
    " 'LONGITUDE': '-94.536',\n",
    " 'PHONE': '(417) 627-8566-(855) 420-7900',\n",
    " 'AFTER HOUR PHONE': '',\n",
    " 'FAX': '',\n",
    " 'OFFICEHOURS_SU': 'Closed',\n",
    " 'OFFICEHOURS_MO': '8:00 AM - 5:00 PM',\n",
    " 'OFFICEHOURS_TU': '8:00 AM - 5:00 PM',\n",
    " 'OFFICEHOURS_WE': '8:00 AM - 5:00 PM',\n",
    " 'OFFICEHOURS_TH': '8:00 AM - 5:00 PM',\n",
    " 'OFFICEHOURS_FR': '8:00 AM - 5:00 PM',\n",
    " 'OFFICEHOURS_SA': 'Closed',\n",
    " 'HANDICAP ACCESS': 'N',\n",
    " 'WEBSITE': 'www.mercy.net',\n",
    " 'PRODUCT 1': 'GP',\n",
    "\n",
    "```\n",
    "\n",
    "Write a function called **closed_by_day(data)** that takes one parameter (the data that came out of the Provider or Practitioner download) and outputs a dictionary of how many practitioneres / providers are closed on each day:\n",
    "```json\n",
    "{\n",
    "    \"Sunday\": 1401,\n",
    "    \"Monday\": 2,\n",
    "    ...etc...\n",
    "```"
   ]
  },
  {
   "cell_type": "code",
   "execution_count": 7,
   "metadata": {},
   "outputs": [],
   "source": [
    "def closed_by_day(data):\n",
    "    \"\"\"(list) >> dict\n",
    "    This function takes the json file from the previous function(get_files) as an input nd outputs a dictionary \n",
    "    of how many practitioneres / providers are closed on each day as an dictionary.\n",
    "    \n",
    "    >>> closed_by_day('provider')\n",
    "    {'Sunday': 19380, 'Monday': 30, 'Tuesday': 2, 'Wednesday': 0, 'Thursday': 3, 'Friday': 4, 'Saturday': 156}\n",
    "    \n",
    "    >>> closed_by_day(\"provider\")[\"Sunday\"]\n",
    "    19380\n",
    "    \n",
    "    \"\"\"\n",
    "    sunday = 0\n",
    "    monday = 0\n",
    "    tuesday = 0\n",
    "    wednesday = 0\n",
    "    thursday = 0\n",
    "    friday = 0\n",
    "    saturday = 0\n",
    "    \n",
    "    days = get_files(data)\n",
    "    \n",
    "    for week in days:\n",
    "        if week[\"OFFICEHOURS_SU\"]==\"Closed\":\n",
    "            sunday += 1\n",
    "        elif week[\"OFFICEHOURS_MO\"]==\"Closed\":\n",
    "            monday+= 1\n",
    "        elif week[\"OFFICEHOURS_TU\"]==\"Closed\":\n",
    "            tuesday += 1         \n",
    "        elif week[\"OFFICEHOURS_WE\"]==\"Closed\":\n",
    "            wednesday += 1   \n",
    "        elif week[\"OFFICEHOURS_TH\"]==\"Closed\":\n",
    "            thursday+= 1 \n",
    "        elif week[\"OFFICEHOURS_FR\"]==\"Closed\":\n",
    "            friday+= 1 \n",
    "        elif week[\"OFFICEHOURS_SA\"]==\"Closed\":\n",
    "            saturday += 1            \n",
    "        \n",
    "    week_of_the_days = {'Sunday': sunday, 'Monday': monday, 'Tuesday': tuesday, 'Wednesday': wednesday, 'Thursday': thursday, 'Friday': friday, 'Saturday': saturday}\n",
    "    \n",
    "    return week_of_the_days\n",
    "        \n",
    "        \n",
    "    "
   ]
  },
  {
   "cell_type": "code",
   "execution_count": 8,
   "metadata": {},
   "outputs": [
    {
     "data": {
      "text/plain": [
       "{'Sunday': 19380,\n",
       " 'Monday': 30,\n",
       " 'Tuesday': 2,\n",
       " 'Wednesday': 0,\n",
       " 'Thursday': 3,\n",
       " 'Friday': 4,\n",
       " 'Saturday': 156}"
      ]
     },
     "execution_count": 8,
     "metadata": {},
     "output_type": "execute_result"
    }
   ],
   "source": [
    "closed_by_day('provider')"
   ]
  },
  {
   "cell_type": "code",
   "execution_count": 9,
   "metadata": {},
   "outputs": [
    {
     "name": "stdout",
     "output_type": "stream",
     "text": [
      "Finding tests in NoName\n",
      "Trying:\n",
      "    closed_by_day('provider')\n",
      "Expecting:\n",
      "    {'Sunday': 19380, 'Monday': 30, 'Tuesday': 2, 'Wednesday': 0, 'Thursday': 3, 'Friday': 4, 'Saturday': 156}\n",
      "ok\n",
      "Trying:\n",
      "    closed_by_day(\"provider\")[\"Sunday\"]\n",
      "Expecting:\n",
      "    19380\n",
      "ok\n"
     ]
    }
   ],
   "source": [
    "import doctest\n",
    "doctest.run_docstring_examples(closed_by_day, globals(), verbose=True)"
   ]
  },
  {
   "cell_type": "code",
   "execution_count": null,
   "metadata": {},
   "outputs": [],
   "source": []
  },
  {
   "cell_type": "markdown",
   "metadata": {},
   "source": [
    "## Earn-Back 4: Output to a file\n",
    "\n",
    "Now, simply write a function named **to_csv(data, file)** that takes this summary view of information as a dictionary (the `data` parameter) and writes it out to a CSV file (the `file` parameter)."
   ]
  },
  {
   "cell_type": "code",
   "execution_count": 10,
   "metadata": {},
   "outputs": [],
   "source": [
    "import pandas as pd\n",
    "\n",
    "def to_csv(data,file):\n",
    "    \"\"\"(dictionary, str)\n",
    "    \n",
    "    The function provided here takes the summary view of information as a dictionary and writes it out to a CSV file (the file parameter). \n",
    "    \n",
    "    >>> pd.read_csv(\"weekoffs_count.csv\").values[0]\n",
    "    array([19380,    30,     2,     0,     3,     4,   156])\n",
    "    \n",
    "    >>> pd.read_csv(\"weekoffs_count.csv\").dtypes\n",
    "    Sunday       int64\n",
    "    Monday       int64\n",
    "    Tuesday      int64\n",
    "    Wednesday    int64\n",
    "    Thursday     int64\n",
    "    Friday       int64\n",
    "    Saturday     int64\n",
    "    dtype: object\n",
    "    \n",
    "    \n",
    "    \"\"\"\n",
    "    \n",
    "    import csv\n",
    "    \n",
    "    my_dict = {'Sunday': 19380,'Monday': 30,'Tuesday': 2,'Wednesday': 0,'Thursday': 3,'Friday': 4,'Saturday': 156}\n",
    "    \n",
    "    fields = ['Sunday','Monday','Tuesday','Wednesday','Thursday','Friday','Saturday']\n",
    "    filename = \"weekoffs_count.csv\"\n",
    "        \n",
    "    with open(filename, 'w') as f:\n",
    "        writer = csv.DictWriter(f, fieldnames = fields) \n",
    "        writer.writeheader()\n",
    "        \n",
    "        for key in data:\n",
    "            writer.writerow(my_dict)\n",
    "    \n",
    "    return \n",
    "     "
   ]
  },
  {
   "cell_type": "code",
   "execution_count": 11,
   "metadata": {},
   "outputs": [
    {
     "data": {
      "text/html": [
       "<div>\n",
       "<style scoped>\n",
       "    .dataframe tbody tr th:only-of-type {\n",
       "        vertical-align: middle;\n",
       "    }\n",
       "\n",
       "    .dataframe tbody tr th {\n",
       "        vertical-align: top;\n",
       "    }\n",
       "\n",
       "    .dataframe thead th {\n",
       "        text-align: right;\n",
       "    }\n",
       "</style>\n",
       "<table border=\"1\" class=\"dataframe\">\n",
       "  <thead>\n",
       "    <tr style=\"text-align: right;\">\n",
       "      <th></th>\n",
       "      <th>Sunday</th>\n",
       "      <th>Monday</th>\n",
       "      <th>Tuesday</th>\n",
       "      <th>Wednesday</th>\n",
       "      <th>Thursday</th>\n",
       "      <th>Friday</th>\n",
       "      <th>Saturday</th>\n",
       "    </tr>\n",
       "  </thead>\n",
       "  <tbody>\n",
       "    <tr>\n",
       "      <th>0</th>\n",
       "      <td>19380</td>\n",
       "      <td>30</td>\n",
       "      <td>2</td>\n",
       "      <td>0</td>\n",
       "      <td>3</td>\n",
       "      <td>4</td>\n",
       "      <td>156</td>\n",
       "    </tr>\n",
       "  </tbody>\n",
       "</table>\n",
       "</div>"
      ],
      "text/plain": [
       "   Sunday  Monday  Tuesday  Wednesday  Thursday  Friday  Saturday\n",
       "0   19380      30        2          0         3       4       156"
      ]
     },
     "execution_count": 11,
     "metadata": {},
     "output_type": "execute_result"
    }
   ],
   "source": [
    "import pandas as pd\n",
    "pd.read_csv(\"weekoffs_count.csv\",skiprows = [1,2,3,4,5,6])"
   ]
  },
  {
   "cell_type": "code",
   "execution_count": 12,
   "metadata": {},
   "outputs": [
    {
     "data": {
      "text/plain": [
       "array([19380,    30,     2,     0,     3,     4,   156])"
      ]
     },
     "execution_count": 12,
     "metadata": {},
     "output_type": "execute_result"
    }
   ],
   "source": [
    "pd.read_csv(\"weekoffs_count.csv\").values[0]"
   ]
  },
  {
   "cell_type": "code",
   "execution_count": 13,
   "metadata": {},
   "outputs": [
    {
     "data": {
      "text/plain": [
       "Sunday       int64\n",
       "Monday       int64\n",
       "Tuesday      int64\n",
       "Wednesday    int64\n",
       "Thursday     int64\n",
       "Friday       int64\n",
       "Saturday     int64\n",
       "dtype: object"
      ]
     },
     "execution_count": 13,
     "metadata": {},
     "output_type": "execute_result"
    }
   ],
   "source": [
    "pd.read_csv(\"weekoffs_count.csv\").dtypes"
   ]
  },
  {
   "cell_type": "code",
   "execution_count": 14,
   "metadata": {},
   "outputs": [
    {
     "name": "stdout",
     "output_type": "stream",
     "text": [
      "Finding tests in NoName\n",
      "Trying:\n",
      "    pd.read_csv(\"weekoffs_count.csv\").values[0]\n",
      "Expecting:\n",
      "    array([19380,    30,     2,     0,     3,     4,   156])\n",
      "ok\n",
      "Trying:\n",
      "    pd.read_csv(\"weekoffs_count.csv\").dtypes\n",
      "Expecting:\n",
      "    Sunday       int64\n",
      "    Monday       int64\n",
      "    Tuesday      int64\n",
      "    Wednesday    int64\n",
      "    Thursday     int64\n",
      "    Friday       int64\n",
      "    Saturday     int64\n",
      "    dtype: object\n",
      "ok\n"
     ]
    }
   ],
   "source": [
    "import doctest\n",
    "doctest.run_docstring_examples(to_csv, globals(), verbose=True)"
   ]
  },
  {
   "cell_type": "code",
   "execution_count": null,
   "metadata": {},
   "outputs": [],
   "source": []
  },
  {
   "cell_type": "markdown",
   "metadata": {},
   "source": [
    "## Submit your work to github in your week 11 folder by 11/18 11:59 PM"
   ]
  },
  {
   "cell_type": "code",
   "execution_count": null,
   "metadata": {},
   "outputs": [],
   "source": []
  }
 ],
 "metadata": {
  "kernelspec": {
   "display_name": "Python 3",
   "language": "python",
   "name": "python3"
  },
  "language_info": {
   "codemirror_mode": {
    "name": "ipython",
    "version": 3
   },
   "file_extension": ".py",
   "mimetype": "text/x-python",
   "name": "python",
   "nbconvert_exporter": "python",
   "pygments_lexer": "ipython3",
   "version": "3.6.7"
  }
 },
 "nbformat": 4,
 "nbformat_minor": 4
}

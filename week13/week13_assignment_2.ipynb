{
 "cells": [
  {
   "cell_type": "markdown",
   "metadata": {
    "nbgrader": {
     "grade": false,
     "grade_id": "cell-fc1c39d0d6f8b82a",
     "locked": true,
     "schema_version": 1,
     "solution": false
    }
   },
   "source": [
    "# Week 13 Programming Assignment\n",
    "\n",
    "As you're working on identifying data for your final project, it's helpful to spend some time exploring your various data files.  For this week's assignment, I'd like you to take a few of the ideas from the the lectures, review assignment, and tonight's lecture to start exploring the data you plan to use for the final project.\n",
    "\n",
    "For the following activities, you can use just one of the data files that you've identified, or you can do the activities using different data files.  That's up to you.  Please describe what you're doing in a Markdown cell or in the comments of your code.  When you've completed the assignment, submit it as normal."
   ]
  },
  {
   "cell_type": "markdown",
   "metadata": {},
   "source": [
    "### 1. Basic Statistics\n",
    "\n",
    "Use Python to read in your data file and show many rows and columns your data has."
   ]
  },
  {
   "cell_type": "code",
   "execution_count": 1,
   "metadata": {},
   "outputs": [
    {
     "data": {
      "text/html": [
       "<div>\n",
       "<style scoped>\n",
       "    .dataframe tbody tr th:only-of-type {\n",
       "        vertical-align: middle;\n",
       "    }\n",
       "\n",
       "    .dataframe tbody tr th {\n",
       "        vertical-align: top;\n",
       "    }\n",
       "\n",
       "    .dataframe thead th {\n",
       "        text-align: right;\n",
       "    }\n",
       "</style>\n",
       "<table border=\"1\" class=\"dataframe\">\n",
       "  <thead>\n",
       "    <tr style=\"text-align: right;\">\n",
       "      <th></th>\n",
       "      <th>BeneID</th>\n",
       "      <th>DOB</th>\n",
       "      <th>DOD</th>\n",
       "      <th>Gender</th>\n",
       "      <th>Race</th>\n",
       "      <th>RenalDiseaseIndicator</th>\n",
       "      <th>State</th>\n",
       "      <th>County</th>\n",
       "      <th>NoOfMonths_PartACov</th>\n",
       "      <th>NoOfMonths_PartBCov</th>\n",
       "      <th>...</th>\n",
       "      <th>ChronicCond_Depression</th>\n",
       "      <th>ChronicCond_Diabetes</th>\n",
       "      <th>ChronicCond_IschemicHeart</th>\n",
       "      <th>ChronicCond_Osteoporasis</th>\n",
       "      <th>ChronicCond_rheumatoidarthritis</th>\n",
       "      <th>ChronicCond_stroke</th>\n",
       "      <th>IPAnnualReimbursementAmt</th>\n",
       "      <th>IPAnnualDeductibleAmt</th>\n",
       "      <th>OPAnnualReimbursementAmt</th>\n",
       "      <th>OPAnnualDeductibleAmt</th>\n",
       "    </tr>\n",
       "  </thead>\n",
       "  <tbody>\n",
       "    <tr>\n",
       "      <th>0</th>\n",
       "      <td>BENE11001</td>\n",
       "      <td>1943-01-01</td>\n",
       "      <td>NaN</td>\n",
       "      <td>1</td>\n",
       "      <td>1</td>\n",
       "      <td>0</td>\n",
       "      <td>39</td>\n",
       "      <td>230</td>\n",
       "      <td>12</td>\n",
       "      <td>12</td>\n",
       "      <td>...</td>\n",
       "      <td>1</td>\n",
       "      <td>1</td>\n",
       "      <td>1</td>\n",
       "      <td>2</td>\n",
       "      <td>1</td>\n",
       "      <td>1</td>\n",
       "      <td>36000</td>\n",
       "      <td>3204</td>\n",
       "      <td>60</td>\n",
       "      <td>70</td>\n",
       "    </tr>\n",
       "    <tr>\n",
       "      <th>1</th>\n",
       "      <td>BENE11002</td>\n",
       "      <td>1936-09-01</td>\n",
       "      <td>NaN</td>\n",
       "      <td>2</td>\n",
       "      <td>1</td>\n",
       "      <td>0</td>\n",
       "      <td>39</td>\n",
       "      <td>280</td>\n",
       "      <td>12</td>\n",
       "      <td>12</td>\n",
       "      <td>...</td>\n",
       "      <td>2</td>\n",
       "      <td>2</td>\n",
       "      <td>2</td>\n",
       "      <td>2</td>\n",
       "      <td>2</td>\n",
       "      <td>2</td>\n",
       "      <td>0</td>\n",
       "      <td>0</td>\n",
       "      <td>30</td>\n",
       "      <td>50</td>\n",
       "    </tr>\n",
       "    <tr>\n",
       "      <th>2</th>\n",
       "      <td>BENE11003</td>\n",
       "      <td>1936-08-01</td>\n",
       "      <td>NaN</td>\n",
       "      <td>1</td>\n",
       "      <td>1</td>\n",
       "      <td>0</td>\n",
       "      <td>52</td>\n",
       "      <td>590</td>\n",
       "      <td>12</td>\n",
       "      <td>12</td>\n",
       "      <td>...</td>\n",
       "      <td>2</td>\n",
       "      <td>2</td>\n",
       "      <td>1</td>\n",
       "      <td>2</td>\n",
       "      <td>2</td>\n",
       "      <td>2</td>\n",
       "      <td>0</td>\n",
       "      <td>0</td>\n",
       "      <td>90</td>\n",
       "      <td>40</td>\n",
       "    </tr>\n",
       "    <tr>\n",
       "      <th>3</th>\n",
       "      <td>BENE11004</td>\n",
       "      <td>1922-07-01</td>\n",
       "      <td>NaN</td>\n",
       "      <td>1</td>\n",
       "      <td>1</td>\n",
       "      <td>0</td>\n",
       "      <td>39</td>\n",
       "      <td>270</td>\n",
       "      <td>12</td>\n",
       "      <td>12</td>\n",
       "      <td>...</td>\n",
       "      <td>2</td>\n",
       "      <td>1</td>\n",
       "      <td>1</td>\n",
       "      <td>1</td>\n",
       "      <td>1</td>\n",
       "      <td>2</td>\n",
       "      <td>0</td>\n",
       "      <td>0</td>\n",
       "      <td>1810</td>\n",
       "      <td>760</td>\n",
       "    </tr>\n",
       "    <tr>\n",
       "      <th>4</th>\n",
       "      <td>BENE11005</td>\n",
       "      <td>1935-09-01</td>\n",
       "      <td>NaN</td>\n",
       "      <td>1</td>\n",
       "      <td>1</td>\n",
       "      <td>0</td>\n",
       "      <td>24</td>\n",
       "      <td>680</td>\n",
       "      <td>12</td>\n",
       "      <td>12</td>\n",
       "      <td>...</td>\n",
       "      <td>2</td>\n",
       "      <td>1</td>\n",
       "      <td>2</td>\n",
       "      <td>2</td>\n",
       "      <td>2</td>\n",
       "      <td>2</td>\n",
       "      <td>0</td>\n",
       "      <td>0</td>\n",
       "      <td>1790</td>\n",
       "      <td>1200</td>\n",
       "    </tr>\n",
       "    <tr>\n",
       "      <th>...</th>\n",
       "      <td>...</td>\n",
       "      <td>...</td>\n",
       "      <td>...</td>\n",
       "      <td>...</td>\n",
       "      <td>...</td>\n",
       "      <td>...</td>\n",
       "      <td>...</td>\n",
       "      <td>...</td>\n",
       "      <td>...</td>\n",
       "      <td>...</td>\n",
       "      <td>...</td>\n",
       "      <td>...</td>\n",
       "      <td>...</td>\n",
       "      <td>...</td>\n",
       "      <td>...</td>\n",
       "      <td>...</td>\n",
       "      <td>...</td>\n",
       "      <td>...</td>\n",
       "      <td>...</td>\n",
       "      <td>...</td>\n",
       "      <td>...</td>\n",
       "    </tr>\n",
       "    <tr>\n",
       "      <th>138551</th>\n",
       "      <td>BENE159194</td>\n",
       "      <td>1939-07-01</td>\n",
       "      <td>NaN</td>\n",
       "      <td>1</td>\n",
       "      <td>1</td>\n",
       "      <td>0</td>\n",
       "      <td>39</td>\n",
       "      <td>140</td>\n",
       "      <td>12</td>\n",
       "      <td>12</td>\n",
       "      <td>...</td>\n",
       "      <td>2</td>\n",
       "      <td>2</td>\n",
       "      <td>2</td>\n",
       "      <td>2</td>\n",
       "      <td>2</td>\n",
       "      <td>2</td>\n",
       "      <td>0</td>\n",
       "      <td>0</td>\n",
       "      <td>430</td>\n",
       "      <td>460</td>\n",
       "    </tr>\n",
       "    <tr>\n",
       "      <th>138552</th>\n",
       "      <td>BENE159195</td>\n",
       "      <td>1938-12-01</td>\n",
       "      <td>NaN</td>\n",
       "      <td>2</td>\n",
       "      <td>1</td>\n",
       "      <td>0</td>\n",
       "      <td>49</td>\n",
       "      <td>530</td>\n",
       "      <td>12</td>\n",
       "      <td>12</td>\n",
       "      <td>...</td>\n",
       "      <td>2</td>\n",
       "      <td>1</td>\n",
       "      <td>2</td>\n",
       "      <td>2</td>\n",
       "      <td>2</td>\n",
       "      <td>2</td>\n",
       "      <td>0</td>\n",
       "      <td>0</td>\n",
       "      <td>880</td>\n",
       "      <td>100</td>\n",
       "    </tr>\n",
       "    <tr>\n",
       "      <th>138553</th>\n",
       "      <td>BENE159196</td>\n",
       "      <td>1916-06-01</td>\n",
       "      <td>NaN</td>\n",
       "      <td>2</td>\n",
       "      <td>1</td>\n",
       "      <td>0</td>\n",
       "      <td>6</td>\n",
       "      <td>150</td>\n",
       "      <td>12</td>\n",
       "      <td>12</td>\n",
       "      <td>...</td>\n",
       "      <td>1</td>\n",
       "      <td>1</td>\n",
       "      <td>1</td>\n",
       "      <td>2</td>\n",
       "      <td>2</td>\n",
       "      <td>2</td>\n",
       "      <td>2000</td>\n",
       "      <td>1068</td>\n",
       "      <td>3240</td>\n",
       "      <td>1390</td>\n",
       "    </tr>\n",
       "    <tr>\n",
       "      <th>138554</th>\n",
       "      <td>BENE159197</td>\n",
       "      <td>1930-01-01</td>\n",
       "      <td>NaN</td>\n",
       "      <td>1</td>\n",
       "      <td>1</td>\n",
       "      <td>0</td>\n",
       "      <td>16</td>\n",
       "      <td>560</td>\n",
       "      <td>12</td>\n",
       "      <td>12</td>\n",
       "      <td>...</td>\n",
       "      <td>2</td>\n",
       "      <td>2</td>\n",
       "      <td>1</td>\n",
       "      <td>2</td>\n",
       "      <td>2</td>\n",
       "      <td>2</td>\n",
       "      <td>0</td>\n",
       "      <td>0</td>\n",
       "      <td>2650</td>\n",
       "      <td>10</td>\n",
       "    </tr>\n",
       "    <tr>\n",
       "      <th>138555</th>\n",
       "      <td>BENE159198</td>\n",
       "      <td>1952-04-01</td>\n",
       "      <td>NaN</td>\n",
       "      <td>2</td>\n",
       "      <td>1</td>\n",
       "      <td>0</td>\n",
       "      <td>21</td>\n",
       "      <td>20</td>\n",
       "      <td>12</td>\n",
       "      <td>12</td>\n",
       "      <td>...</td>\n",
       "      <td>1</td>\n",
       "      <td>1</td>\n",
       "      <td>2</td>\n",
       "      <td>2</td>\n",
       "      <td>1</td>\n",
       "      <td>2</td>\n",
       "      <td>0</td>\n",
       "      <td>0</td>\n",
       "      <td>5470</td>\n",
       "      <td>1870</td>\n",
       "    </tr>\n",
       "  </tbody>\n",
       "</table>\n",
       "<p>138556 rows × 25 columns</p>\n",
       "</div>"
      ],
      "text/plain": [
       "            BeneID         DOB  DOD  Gender  Race RenalDiseaseIndicator  \\\n",
       "0        BENE11001  1943-01-01  NaN       1     1                     0   \n",
       "1        BENE11002  1936-09-01  NaN       2     1                     0   \n",
       "2        BENE11003  1936-08-01  NaN       1     1                     0   \n",
       "3        BENE11004  1922-07-01  NaN       1     1                     0   \n",
       "4        BENE11005  1935-09-01  NaN       1     1                     0   \n",
       "...            ...         ...  ...     ...   ...                   ...   \n",
       "138551  BENE159194  1939-07-01  NaN       1     1                     0   \n",
       "138552  BENE159195  1938-12-01  NaN       2     1                     0   \n",
       "138553  BENE159196  1916-06-01  NaN       2     1                     0   \n",
       "138554  BENE159197  1930-01-01  NaN       1     1                     0   \n",
       "138555  BENE159198  1952-04-01  NaN       2     1                     0   \n",
       "\n",
       "        State  County  NoOfMonths_PartACov  NoOfMonths_PartBCov  ...  \\\n",
       "0          39     230                   12                   12  ...   \n",
       "1          39     280                   12                   12  ...   \n",
       "2          52     590                   12                   12  ...   \n",
       "3          39     270                   12                   12  ...   \n",
       "4          24     680                   12                   12  ...   \n",
       "...       ...     ...                  ...                  ...  ...   \n",
       "138551     39     140                   12                   12  ...   \n",
       "138552     49     530                   12                   12  ...   \n",
       "138553      6     150                   12                   12  ...   \n",
       "138554     16     560                   12                   12  ...   \n",
       "138555     21      20                   12                   12  ...   \n",
       "\n",
       "        ChronicCond_Depression  ChronicCond_Diabetes  \\\n",
       "0                            1                     1   \n",
       "1                            2                     2   \n",
       "2                            2                     2   \n",
       "3                            2                     1   \n",
       "4                            2                     1   \n",
       "...                        ...                   ...   \n",
       "138551                       2                     2   \n",
       "138552                       2                     1   \n",
       "138553                       1                     1   \n",
       "138554                       2                     2   \n",
       "138555                       1                     1   \n",
       "\n",
       "        ChronicCond_IschemicHeart  ChronicCond_Osteoporasis  \\\n",
       "0                               1                         2   \n",
       "1                               2                         2   \n",
       "2                               1                         2   \n",
       "3                               1                         1   \n",
       "4                               2                         2   \n",
       "...                           ...                       ...   \n",
       "138551                          2                         2   \n",
       "138552                          2                         2   \n",
       "138553                          1                         2   \n",
       "138554                          1                         2   \n",
       "138555                          2                         2   \n",
       "\n",
       "        ChronicCond_rheumatoidarthritis  ChronicCond_stroke  \\\n",
       "0                                     1                   1   \n",
       "1                                     2                   2   \n",
       "2                                     2                   2   \n",
       "3                                     1                   2   \n",
       "4                                     2                   2   \n",
       "...                                 ...                 ...   \n",
       "138551                                2                   2   \n",
       "138552                                2                   2   \n",
       "138553                                2                   2   \n",
       "138554                                2                   2   \n",
       "138555                                1                   2   \n",
       "\n",
       "        IPAnnualReimbursementAmt  IPAnnualDeductibleAmt  \\\n",
       "0                          36000                   3204   \n",
       "1                              0                      0   \n",
       "2                              0                      0   \n",
       "3                              0                      0   \n",
       "4                              0                      0   \n",
       "...                          ...                    ...   \n",
       "138551                         0                      0   \n",
       "138552                         0                      0   \n",
       "138553                      2000                   1068   \n",
       "138554                         0                      0   \n",
       "138555                         0                      0   \n",
       "\n",
       "        OPAnnualReimbursementAmt  OPAnnualDeductibleAmt  \n",
       "0                             60                     70  \n",
       "1                             30                     50  \n",
       "2                             90                     40  \n",
       "3                           1810                    760  \n",
       "4                           1790                   1200  \n",
       "...                          ...                    ...  \n",
       "138551                       430                    460  \n",
       "138552                       880                    100  \n",
       "138553                      3240                   1390  \n",
       "138554                      2650                     10  \n",
       "138555                      5470                   1870  \n",
       "\n",
       "[138556 rows x 25 columns]"
      ]
     },
     "execution_count": 1,
     "metadata": {},
     "output_type": "execute_result"
    }
   ],
   "source": [
    "#This dataset explores data regarding the Frauds commited in Healthcare Industry involving providers like hospitals, labs, physicians, \n",
    "#pharmacists and other benefciaries who might act together to make fraud claims. \n",
    "\n",
    "#In this Assignment, we see the Beneficiary data being Analysed and reviewed to get an in-depth understanding. \n",
    "\n",
    "import numpy as np\n",
    "import pandas as pd\n",
    "import matplotlib.pyplot as plt\n",
    "import seaborn as sns\n",
    "%matplotlib inline\n",
    "data = pd.read_csv('Beneficiarydata.csv')\n",
    "data"
   ]
  },
  {
   "cell_type": "code",
   "execution_count": 2,
   "metadata": {},
   "outputs": [
    {
     "data": {
      "text/plain": [
       "(138556, 25)"
      ]
     },
     "execution_count": 2,
     "metadata": {},
     "output_type": "execute_result"
    }
   ],
   "source": [
    "data.shape"
   ]
  },
  {
   "cell_type": "markdown",
   "metadata": {},
   "source": [
    "### 2. Data Diversity\n",
    "\n",
    "Use Python to identify how many unique values each column in your data has.  Use Python to identify which column has the greatest number of distinct values (aka the most diversity)?  If your data has a unique identifier (e.g. a person or visit or record ID) then find the column with the next most number of unique values."
   ]
  },
  {
   "cell_type": "code",
   "execution_count": 3,
   "metadata": {},
   "outputs": [
    {
     "name": "stdout",
     "output_type": "stream",
     "text": [
      "BeneID has 138556 value(s)\n",
      "DOB has 900 value(s)\n",
      "DOD has 12 value(s)\n",
      "Gender has 2 value(s)\n",
      "Race has 4 value(s)\n",
      "RenalDiseaseIndicator has 2 value(s)\n",
      "State has 52 value(s)\n",
      "County has 314 value(s)\n",
      "NoOfMonths_PartACov has 13 value(s)\n",
      "NoOfMonths_PartBCov has 13 value(s)\n",
      "ChronicCond_Alzheimer has 2 value(s)\n",
      "ChronicCond_Heartfailure has 2 value(s)\n",
      "ChronicCond_KidneyDisease has 2 value(s)\n",
      "ChronicCond_Cancer has 2 value(s)\n",
      "ChronicCond_ObstrPulmonary has 2 value(s)\n",
      "ChronicCond_Depression has 2 value(s)\n",
      "ChronicCond_Diabetes has 2 value(s)\n",
      "ChronicCond_IschemicHeart has 2 value(s)\n",
      "ChronicCond_Osteoporasis has 2 value(s)\n",
      "ChronicCond_rheumatoidarthritis has 2 value(s)\n",
      "ChronicCond_stroke has 2 value(s)\n",
      "IPAnnualReimbursementAmt has 3004 value(s)\n",
      "IPAnnualDeductibleAmt has 147 value(s)\n",
      "OPAnnualReimbursementAmt has 2078 value(s)\n",
      "OPAnnualDeductibleAmt has 789 value(s)\n"
     ]
    }
   ],
   "source": [
    "unique_columns = []\n",
    "\n",
    "for col in data.columns:\n",
    "    count = len(data[col].unique())\n",
    "    print(\"{} has {} value(s)\".format(col, count))"
   ]
  },
  {
   "cell_type": "code",
   "execution_count": 4,
   "metadata": {},
   "outputs": [
    {
     "data": {
      "text/plain": [
       "BeneID                             138556\n",
       "IPAnnualReimbursementAmt             3004\n",
       "OPAnnualReimbursementAmt             2078\n",
       "DOB                                   900\n",
       "OPAnnualDeductibleAmt                 789\n",
       "County                                314\n",
       "IPAnnualDeductibleAmt                 147\n",
       "State                                  52\n",
       "NoOfMonths_PartBCov                    13\n",
       "NoOfMonths_PartACov                    13\n",
       "DOD                                    11\n",
       "Race                                    4\n",
       "ChronicCond_Osteoporasis                2\n",
       "Gender                                  2\n",
       "RenalDiseaseIndicator                   2\n",
       "ChronicCond_rheumatoidarthritis         2\n",
       "ChronicCond_Alzheimer                   2\n",
       "ChronicCond_Heartfailure                2\n",
       "ChronicCond_stroke                      2\n",
       "ChronicCond_Cancer                      2\n",
       "ChronicCond_ObstrPulmonary              2\n",
       "ChronicCond_Depression                  2\n",
       "ChronicCond_Diabetes                    2\n",
       "ChronicCond_IschemicHeart               2\n",
       "ChronicCond_KidneyDisease               2\n",
       "dtype: int64"
      ]
     },
     "execution_count": 4,
     "metadata": {},
     "output_type": "execute_result"
    }
   ],
   "source": [
    "data.nunique().sort_values(ascending=False)"
   ]
  },
  {
   "cell_type": "markdown",
   "metadata": {},
   "source": [
    "### 3. Data Redundancy\n",
    "\n",
    "Use Python to identify any columns in your data where the value for every row is the same.  For example, if you had a gender column and all the rows said 'M', then you would want to write the code that helped you determine that."
   ]
  },
  {
   "cell_type": "code",
   "execution_count": null,
   "metadata": {},
   "outputs": [],
   "source": []
  },
  {
   "cell_type": "code",
   "execution_count": 5,
   "metadata": {},
   "outputs": [
    {
     "data": {
      "text/plain": [
       "{'BeneID': 138556,\n",
       " 'DOB': 900,\n",
       " 'DOD': 12,\n",
       " 'Gender': 2,\n",
       " 'Race': 4,\n",
       " 'RenalDiseaseIndicator': 2,\n",
       " 'State': 52,\n",
       " 'County': 314,\n",
       " 'NoOfMonths_PartACov': 13,\n",
       " 'NoOfMonths_PartBCov': 13,\n",
       " 'ChronicCond_Alzheimer': 2,\n",
       " 'ChronicCond_Heartfailure': 2,\n",
       " 'ChronicCond_KidneyDisease': 2,\n",
       " 'ChronicCond_Cancer': 2,\n",
       " 'ChronicCond_ObstrPulmonary': 2,\n",
       " 'ChronicCond_Depression': 2,\n",
       " 'ChronicCond_Diabetes': 2,\n",
       " 'ChronicCond_IschemicHeart': 2,\n",
       " 'ChronicCond_Osteoporasis': 2,\n",
       " 'ChronicCond_rheumatoidarthritis': 2,\n",
       " 'ChronicCond_stroke': 2,\n",
       " 'IPAnnualReimbursementAmt': 3004,\n",
       " 'IPAnnualDeductibleAmt': 147,\n",
       " 'OPAnnualReimbursementAmt': 2078,\n",
       " 'OPAnnualDeductibleAmt': 789}"
      ]
     },
     "execution_count": 5,
     "metadata": {},
     "output_type": "execute_result"
    }
   ],
   "source": [
    "unique_values = {}\n",
    "\n",
    "for column in data.columns:\n",
    "    unique_values[column] = len(data[column].unique())\n",
    "    \n",
    "unique_values\n"
   ]
  },
  {
   "cell_type": "code",
   "execution_count": 6,
   "metadata": {},
   "outputs": [
    {
     "name": "stdout",
     "output_type": "stream",
     "text": [
      "Maximum Value:  138556\n",
      "Minimum Value:  2\n"
     ]
    }
   ],
   "source": [
    "key_max = max(unique_values.keys(), key=(lambda k: unique_values[k]))\n",
    "key_min = min(unique_values.keys(), key=(lambda k: unique_values[k]))\n",
    "\n",
    "print('Maximum Value: ',unique_values[key_max])\n",
    "print('Minimum Value: ',unique_values[key_min])"
   ]
  },
  {
   "cell_type": "code",
   "execution_count": 7,
   "metadata": {},
   "outputs": [],
   "source": [
    "count={k:len(set(v)) for k, v in data.items()} #get the count of unique values for each key\n",
    "\n",
    "values=[i for i in count if count[i]==min(count.values())] #get the keys with min value\n",
    "\n"
   ]
  },
  {
   "cell_type": "code",
   "execution_count": 8,
   "metadata": {},
   "outputs": [
    {
     "data": {
      "text/plain": [
       "['Gender',\n",
       " 'RenalDiseaseIndicator',\n",
       " 'ChronicCond_Alzheimer',\n",
       " 'ChronicCond_Heartfailure',\n",
       " 'ChronicCond_KidneyDisease',\n",
       " 'ChronicCond_Cancer',\n",
       " 'ChronicCond_ObstrPulmonary',\n",
       " 'ChronicCond_Depression',\n",
       " 'ChronicCond_Diabetes',\n",
       " 'ChronicCond_IschemicHeart',\n",
       " 'ChronicCond_Osteoporasis',\n",
       " 'ChronicCond_rheumatoidarthritis',\n",
       " 'ChronicCond_stroke']"
      ]
     },
     "execution_count": 8,
     "metadata": {},
     "output_type": "execute_result"
    }
   ],
   "source": [
    "values"
   ]
  },
  {
   "cell_type": "code",
   "execution_count": 9,
   "metadata": {},
   "outputs": [
    {
     "name": "stdout",
     "output_type": "stream",
     "text": [
      "BeneID\n"
     ]
    }
   ],
   "source": [
    "max_value = max(unique_values, key=unique_values.get)\n",
    "print(max_value)"
   ]
  },
  {
   "cell_type": "markdown",
   "metadata": {},
   "source": [
    "### 4. Range of Values\n",
    "\n",
    "Your data almost certainly has some numeric columns that can be summed or averaged.  Create a histogram that shows the distribution of values for this column."
   ]
  },
  {
   "cell_type": "code",
   "execution_count": 10,
   "metadata": {},
   "outputs": [
    {
     "data": {
      "text/plain": [
       "array([1, 2])"
      ]
     },
     "execution_count": 10,
     "metadata": {},
     "output_type": "execute_result"
    }
   ],
   "source": [
    "data['Gender'].unique()"
   ]
  },
  {
   "cell_type": "code",
   "execution_count": 11,
   "metadata": {},
   "outputs": [],
   "source": [
    "data['Gender'] = data['Gender'].apply(lambda val: 0 if val == 2 else 1)"
   ]
  },
  {
   "cell_type": "code",
   "execution_count": 12,
   "metadata": {},
   "outputs": [
    {
     "data": {
      "image/png": "[encoded data removed]",
      "text/plain": [
       "<Figure size 720x576 with 1 Axes>"
      ]
     },
     "metadata": {},
     "output_type": "display_data"
    }
   ],
   "source": [
    "# Here, I'm displaying the distribution of BENEFICIARIES on the basis of GENDER \n",
    "with plt.style.context('seaborn'):\n",
    "    plt.figure(figsize=(10,8))\n",
    "    fig = data['Gender'].value_counts().plot(kind='bar', color=['violet','green'])\n",
    "    plt.xlabel(\"Gender\")\n",
    "    plt.ylabel(\"Number or % share of patients\")\n",
    "    plt.title(\"Distribution of RECIPIENTS based on GENDER\")\n",
    "    \n",
    "    for p in fig.patches:\n",
    "        width = p.get_width()\n",
    "        height = p.get_height()\n",
    "        x, y = p.get_xy()\n",
    "        fig.annotate(f'{str(round((height*100)/data.shape[0],2))+\"%\"}', (x + width/2, y + height*1.015), ha='center')\n",
    "    \n",
    "    "
   ]
  },
  {
   "cell_type": "code",
   "execution_count": null,
   "metadata": {},
   "outputs": [],
   "source": []
  },
  {
   "cell_type": "markdown",
   "metadata": {},
   "source": [
    "### 5. Discussion\n",
    "\n",
    "Do any additional exploration of this data that you think may be interesting and include your code here.  Then go onto Slack and make a post about what you've observed.  Share your observation.  Share your code, if you like.  Share a screenshot of the data or a chart based on the data.\n",
    "\n",
    "Then comment on at least two other people's observations that they share on Slack.  (Use the reply as thread option in Slack to keep the conversation organized.)"
   ]
  },
  {
   "cell_type": "code",
   "execution_count": 13,
   "metadata": {},
   "outputs": [],
   "source": [
    "# 0 means ALIVE and 1 means DEAD\n",
    "data['status'] = data['DOD'].apply(lambda val: 0 if val != val else 1)"
   ]
  },
  {
   "cell_type": "code",
   "execution_count": 14,
   "metadata": {},
   "outputs": [
    {
     "data": {
      "text/plain": [
       "0    137135\n",
       "1      1421\n",
       "Name: status, dtype: int64"
      ]
     },
     "execution_count": 14,
     "metadata": {},
     "output_type": "execute_result"
    }
   ],
   "source": [
    "data['status'].value_counts()\n",
    "  \n",
    "  "
   ]
  },
  {
   "cell_type": "code",
   "execution_count": 15,
   "metadata": {},
   "outputs": [
    {
     "data": {
      "image/png": "[encoded data removed]",
      "text/plain": [
       "<Figure size 720x576 with 1 Axes>"
      ]
     },
     "metadata": {},
     "output_type": "display_data"
    }
   ],
   "source": [
    "\n",
    "with plt.style.context('seaborn'):\n",
    "    plt.figure(figsize=(10,8))\n",
    "    fig = data['status'].value_counts().plot(kind='bar', color=['pink','blue'])\n",
    "    plt.xlabel(\"MORTALITY\")\n",
    "    plt.xticks(labels=[\"ALIVE\",\"DEAD\"],ticks=[0,1],  rotation=20)\n",
    "    plt.ylabel(\"Number or % share of patients\\n\")\n",
    "    plt.title(\"Distribution of RECIPIENTS based on Alive or Dead Status\")\n",
    "    \n",
    "    for p in fig.patches:\n",
    "        width = p.get_width()\n",
    "        height = p.get_height()\n",
    "        x, y = p.get_xy()\n",
    "        fig.annotate(f'{str(round((height*100)/data.shape[0],2))+\"%\"}', (x + width/2, y + height*1.015), ha='center')\n",
    "\n"
   ]
  },
  {
   "cell_type": "code",
   "execution_count": null,
   "metadata": {},
   "outputs": [],
   "source": []
  },
  {
   "cell_type": "code",
   "execution_count": null,
   "metadata": {},
   "outputs": [],
   "source": []
  },
  {
   "cell_type": "markdown",
   "metadata": {},
   "source": [
    "\n",
    "\n",
    "---\n",
    "\n",
    "\n",
    "\n",
    "## Submitting Your Work\n",
    "\n",
    "Submit your work as usual."
   ]
  },
  {
   "cell_type": "code",
   "execution_count": null,
   "metadata": {},
   "outputs": [],
   "source": []
  }
 ],
 "metadata": {
  "celltoolbar": "Create Assignment",
  "kernelspec": {
   "display_name": "Python 3",
   "language": "python",
   "name": "python3"
  },
  "language_info": {
   "codemirror_mode": {
    "name": "ipython",
    "version": 3
   },
   "file_extension": ".py",
   "mimetype": "text/x-python",
   "name": "python",
   "nbconvert_exporter": "python",
   "pygments_lexer": "ipython3",
   "version": "3.6.7"
  }
 },
 "nbformat": 4,
 "nbformat_minor": 2
}
